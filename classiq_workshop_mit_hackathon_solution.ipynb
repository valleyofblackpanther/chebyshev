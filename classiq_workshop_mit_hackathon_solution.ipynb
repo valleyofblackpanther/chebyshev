{
 "cells": [
  {
   "cell_type": "markdown",
   "metadata": {},
   "source": [
    "# Workshop Preperation for Classiq's Challenge - Quantum Arithmetics"
   ]
  },
  {
   "cell_type": "markdown",
   "metadata": {},
   "source": [
    "Welcome to the Classiq challenge of the 2024 MIT IQuHack hackathon!\n",
    "This Jupyter notebook is a tutorial workshop that should prepare you for the challenge itself.\n",
    "\n",
    "\n",
    "Additional resources you should use are\n",
    "- The IDE of the classiq platform at [platform.classiq.io](platform.classiq.io)\n",
    "- The [community Slack of Classiq](https://short.classiq.io/join-slack) - Classiq's team will answer any question you have over there, including implementation questions\n",
    "- [Classiq's documentation](https://docs.classiq.io/latest/user-guide/platform/) with the dedicated [Python SDK explanations](https://docs.classiq.io/latest/user-guide/platform/qmod/python/functions/)\n",
    "\n",
    "Good luck!"
   ]
  },
  {
   "cell_type": "markdown",
   "metadata": {},
   "source": [
    "![Classiq](MITClassiq.png)"
   ]
  },
  {
   "cell_type": "markdown",
   "metadata": {},
   "source": [
    "## Setting The Scene"
   ]
  },
  {
   "cell_type": "markdown",
   "metadata": {},
   "source": [
    "Install the Classiq SDK package:"
   ]
  },
  {
   "cell_type": "code",
   "execution_count": 3,
   "metadata": {},
   "outputs": [
    {
     "name": "stdout",
     "output_type": "stream",
     "text": [
      "Collecting classiq\n",
      "  Using cached classiq-0.36.1-py3-none-any.whl (364 kB)\n",
      "Collecting ConfigArgParse<2.0.0,>=1.5.3\n",
      "  Using cached ConfigArgParse-1.7-py3-none-any.whl (25 kB)\n",
      "Collecting Pyomo<6.6,>=6.5\n",
      "  Using cached Pyomo-6.5.0-cp311-cp311-win_amd64.whl (4.0 MB)\n",
      "Collecting httpx<1,>=0.23.0\n",
      "  Using cached httpx-0.26.0-py3-none-any.whl (75 kB)\n",
      "Collecting keyring<24.0.0,>=23.5.0\n",
      "  Using cached keyring-23.13.1-py3-none-any.whl (37 kB)\n",
      "Requirement already satisfied: matplotlib<4.0.0,>=3.4.3 in c:\\users\\kaushik\\appdata\\roaming\\python\\python311\\site-packages (from classiq) (3.8.2)\n",
      "Collecting networkx<3.0.0,>=2.5.1\n",
      "  Using cached networkx-2.8.8-py3-none-any.whl (2.0 MB)\n",
      "Collecting numexpr<3.0.0,>=2.7.3\n",
      "  Using cached numexpr-2.9.0-cp311-cp311-win_amd64.whl (96 kB)\n",
      "Requirement already satisfied: numpy<2.0.0,>=1.20.1 in c:\\users\\kaushik\\appdata\\roaming\\python\\python311\\site-packages (from classiq) (1.26.3)\n",
      "Collecting packaging<22.0,>=21.3\n",
      "  Using cached packaging-21.3-py3-none-any.whl (40 kB)\n",
      "Collecting pandas<2.0.0,>=1.4.0\n",
      "  Using cached pandas-1.5.3-cp311-cp311-win_amd64.whl (10.3 MB)\n",
      "Collecting plotly<6.0.0,>=5.7.0\n",
      "  Using cached plotly-5.18.0-py3-none-any.whl (15.6 MB)\n",
      "Collecting pydantic<2.0.0,>=1.9.1\n",
      "  Using cached pydantic-1.10.14-cp311-cp311-win_amd64.whl (2.1 MB)\n",
      "Collecting sympy<1.11.0,>=1.9.0\n",
      "  Using cached sympy-1.10.1-py3-none-any.whl (6.4 MB)\n",
      "Requirement already satisfied: tabulate<1,>=0.8.9 in c:\\users\\kaushik\\appdata\\roaming\\python\\python311\\site-packages (from classiq) (0.9.0)\n",
      "Collecting anyio\n",
      "  Using cached anyio-4.2.0-py3-none-any.whl (85 kB)\n",
      "Requirement already satisfied: certifi in c:\\users\\kaushik\\appdata\\roaming\\python\\python311\\site-packages (from httpx<1,>=0.23.0->classiq) (2024.2.2)\n",
      "Collecting httpcore==1.*\n",
      "  Using cached httpcore-1.0.2-py3-none-any.whl (76 kB)\n",
      "Requirement already satisfied: idna in c:\\users\\kaushik\\appdata\\roaming\\python\\python311\\site-packages (from httpx<1,>=0.23.0->classiq) (3.6)\n",
      "Requirement already satisfied: sniffio in c:\\users\\kaushik\\appdata\\local\\programs\\python\\python311\\lib\\site-packages (from httpx<1,>=0.23.0->classiq) (1.3.0)\n",
      "Requirement already satisfied: h11<0.15,>=0.13 in c:\\users\\kaushik\\appdata\\local\\programs\\python\\python311\\lib\\site-packages (from httpcore==1.*->httpx<1,>=0.23.0->classiq) (0.14.0)\n",
      "Collecting jaraco.classes\n",
      "  Using cached jaraco.classes-3.3.0-py3-none-any.whl (5.9 kB)\n",
      "Collecting importlib-metadata>=4.11.4\n",
      "  Using cached importlib_metadata-7.0.1-py3-none-any.whl (23 kB)\n",
      "Collecting pywin32-ctypes>=0.2.0\n",
      "  Using cached pywin32_ctypes-0.2.2-py3-none-any.whl (30 kB)\n",
      "Requirement already satisfied: contourpy>=1.0.1 in c:\\users\\kaushik\\appdata\\roaming\\python\\python311\\site-packages (from matplotlib<4.0.0,>=3.4.3->classiq) (1.2.0)\n",
      "Requirement already satisfied: cycler>=0.10 in c:\\users\\kaushik\\appdata\\roaming\\python\\python311\\site-packages (from matplotlib<4.0.0,>=3.4.3->classiq) (0.12.1)\n",
      "Requirement already satisfied: fonttools>=4.22.0 in c:\\users\\kaushik\\appdata\\roaming\\python\\python311\\site-packages (from matplotlib<4.0.0,>=3.4.3->classiq) (4.47.2)\n",
      "Requirement already satisfied: kiwisolver>=1.3.1 in c:\\users\\kaushik\\appdata\\roaming\\python\\python311\\site-packages (from matplotlib<4.0.0,>=3.4.3->classiq) (1.4.5)\n",
      "Requirement already satisfied: pillow>=8 in c:\\users\\kaushik\\appdata\\roaming\\python\\python311\\site-packages (from matplotlib<4.0.0,>=3.4.3->classiq) (10.2.0)\n",
      "Requirement already satisfied: pyparsing>=2.3.1 in c:\\users\\kaushik\\appdata\\roaming\\python\\python311\\site-packages (from matplotlib<4.0.0,>=3.4.3->classiq) (3.1.1)\n",
      "Requirement already satisfied: python-dateutil>=2.7 in c:\\users\\kaushik\\appdata\\roaming\\python\\python311\\site-packages (from matplotlib<4.0.0,>=3.4.3->classiq) (2.8.2)\n",
      "Collecting pytz>=2020.1\n",
      "  Downloading pytz-2024.1-py2.py3-none-any.whl (505 kB)\n",
      "     -------------------------------------- 505.5/505.5 kB 7.9 MB/s eta 0:00:00\n",
      "Collecting tenacity>=6.2.0\n",
      "  Using cached tenacity-8.2.3-py3-none-any.whl (24 kB)\n",
      "Requirement already satisfied: typing-extensions>=4.2.0 in c:\\users\\kaushik\\appdata\\local\\programs\\python\\python311\\lib\\site-packages (from pydantic<2.0.0,>=1.9.1->classiq) (4.9.0)\n",
      "Collecting ply\n",
      "  Using cached ply-3.11-py2.py3-none-any.whl (49 kB)\n",
      "Requirement already satisfied: mpmath>=0.19 in c:\\users\\kaushik\\appdata\\roaming\\python\\python311\\site-packages (from sympy<1.11.0,>=1.9.0->classiq) (1.3.0)\n",
      "Collecting zipp>=0.5\n",
      "  Using cached zipp-3.17.0-py3-none-any.whl (7.4 kB)\n",
      "Requirement already satisfied: six>=1.5 in c:\\users\\kaushik\\appdata\\roaming\\python\\python311\\site-packages (from python-dateutil>=2.7->matplotlib<4.0.0,>=3.4.3->classiq) (1.16.0)\n",
      "Collecting more-itertools\n",
      "  Using cached more_itertools-10.2.0-py3-none-any.whl (57 kB)\n",
      "Installing collected packages: pytz, ply, zipp, tenacity, sympy, pywin32-ctypes, Pyomo, pydantic, packaging, numexpr, networkx, more-itertools, httpcore, ConfigArgParse, anyio, plotly, pandas, jaraco.classes, importlib-metadata, httpx, keyring, classiq\n",
      "Successfully installed ConfigArgParse-1.7 Pyomo-6.5.0 anyio-4.2.0 classiq-0.36.1 httpcore-1.0.2 httpx-0.26.0 importlib-metadata-7.0.1 jaraco.classes-3.3.0 keyring-23.13.1 more-itertools-10.2.0 networkx-2.8.8 numexpr-2.9.0 packaging-21.3 pandas-1.5.3 plotly-5.18.0 ply-3.11 pydantic-1.10.14 pytz-2024.1 pywin32-ctypes-0.2.2 sympy-1.10.1 tenacity-8.2.3 zipp-3.17.0\n",
      "Note: you may need to restart the kernel to use updated packages.\n"
     ]
    },
    {
     "name": "stderr",
     "output_type": "stream",
     "text": [
      "  WARNING: The script isympy.exe is installed in 'c:\\Users\\Kaushik\\AppData\\Local\\Programs\\Python\\Python311\\Scripts' which is not on PATH.\n",
      "  Consider adding this directory to PATH or, if you prefer to suppress this warning, use --no-warn-script-location.\n",
      "  WARNING: The script pyomo.exe is installed in 'c:\\Users\\Kaushik\\AppData\\Local\\Programs\\Python\\Python311\\Scripts' which is not on PATH.\n",
      "  Consider adding this directory to PATH or, if you prefer to suppress this warning, use --no-warn-script-location.\n",
      "  WARNING: The script httpx.exe is installed in 'c:\\Users\\Kaushik\\AppData\\Local\\Programs\\Python\\Python311\\Scripts' which is not on PATH.\n",
      "  Consider adding this directory to PATH or, if you prefer to suppress this warning, use --no-warn-script-location.\n",
      "  WARNING: The script keyring.exe is installed in 'c:\\Users\\Kaushik\\AppData\\Local\\Programs\\Python\\Python311\\Scripts' which is not on PATH.\n",
      "  Consider adding this directory to PATH or, if you prefer to suppress this warning, use --no-warn-script-location.\n",
      "ERROR: pip's dependency resolver does not currently take into account all the packages that are installed. This behaviour is the source of the following dependency conflicts.\n",
      "perceval-quandela 0.10.3 requires networkx~=3.1, but you have networkx 2.8.8 which is incompatible.\n",
      "black 24.1.1 requires packaging>=22.0, but you have packaging 21.3 which is incompatible.\n",
      "pyproject-api 1.6.1 requires packaging>=23.1, but you have packaging 21.3 which is incompatible.\n",
      "tox 4.12.1 requires packaging>=23.2, but you have packaging 21.3 which is incompatible.\n",
      "\n",
      "[notice] A new release of pip available: 22.3.1 -> 23.3.2\n",
      "[notice] To update, run: python.exe -m pip install --upgrade pip\n"
     ]
    }
   ],
   "source": [
    "%pip install -U classiq"
   ]
  },
  {
   "cell_type": "markdown",
   "metadata": {},
   "source": [
    "You need to authenticate your device in order to use Classiq's backend synthesis engine and IDE. Make sure to register to the platform at [platform.classiq.io](platform.classiq.io) before you run the next cell:"
   ]
  },
  {
   "cell_type": "code",
   "execution_count": 4,
   "metadata": {},
   "outputs": [
    {
     "name": "stdout",
     "output_type": "stream",
     "text": [
      "Your user code: WMTG-GBZF\n",
      "If a browser doesn't automatically open, please visit the url: https://auth.classiq.io/activate?user_code=WMTG-GBZF\n"
     ]
    }
   ],
   "source": [
    "import classiq\n",
    "classiq.authenticate()"
   ]
  },
  {
   "cell_type": "code",
   "execution_count": 5,
   "metadata": {},
   "outputs": [],
   "source": [
    "from classiq import *"
   ]
  },
  {
   "cell_type": "markdown",
   "metadata": {},
   "source": [
    "## A Warm Up"
   ]
  },
  {
   "cell_type": "markdown",
   "metadata": {},
   "source": [
    "### First Example"
   ]
  },
  {
   "cell_type": "markdown",
   "metadata": {},
   "source": [
    "Write a function that prepares the minus state $\\ket{-}=\\frac{1}{\\sqrt2}(\\ket{0}-\\ket{1})$, assuming it recives the qubit $\\ket{x}=\\ket{0}$ (hint: \n",
    "\n",
    "<details>\n",
    "<summary>\n",
    "HINT\n",
    "</summary>\n",
    "\n",
    "Use `H(x)`,`X(x)`\n",
    "</details>"
   ]
  },
  {
   "cell_type": "code",
   "execution_count": 6,
   "metadata": {},
   "outputs": [],
   "source": [
    "@QFunc\n",
    "def prepare_minus_state(x:QBit):\n",
    "    X(x)\n",
    "    H(x)"
   ]
  },
  {
   "cell_type": "markdown",
   "metadata": {},
   "source": [
    "Now we will test our code:"
   ]
  },
  {
   "cell_type": "code",
   "execution_count": 7,
   "metadata": {},
   "outputs": [],
   "source": [
    "@QFunc\n",
    "def main(x: Output[QBit]):\n",
    "    allocate(1,x) # Initalize the qubit x\n",
    "    prepare_minus_state(x)"
   ]
  },
  {
   "cell_type": "code",
   "execution_count": 4,
   "metadata": {},
   "outputs": [],
   "source": [
    "quantum_model = create_model(main)\n",
    "quantum_program = synthesize(quantum_model)"
   ]
  },
  {
   "cell_type": "code",
   "execution_count": 5,
   "metadata": {},
   "outputs": [
    {
     "name": "stdout",
     "output_type": "stream",
     "text": [
      "Opening: https://platform.classiq.io/circuit/00a0d989-1d56-431a-9c21-f4e33273df89?version=0.36.1\n"
     ]
    }
   ],
   "source": [
    "show(quantum_program)"
   ]
  },
  {
   "cell_type": "markdown",
   "metadata": {},
   "source": [
    "Some basic explanations about the high-level functional design with Classiq:\n",
    "\n",
    "* There should always be a main (`def main(...)`) function - the model that captures your algortihm is described there\n",
    "\n",
    "* The model is always generated out of the main function \n",
    "\n",
    "* The model is sent to the synthesis engine (compiler) that return a quantum program which contains the quantum circuit\n"
   ]
  },
  {
   "cell_type": "markdown",
   "metadata": {},
   "source": [
    "Some basic guidelines about the modeling language (QMOD):\n",
    "\n",
    "1. Every quantum variable should be declared, either as a parameter of a funciton e.g. `def prepare_minus(x: QBit)` or within the function itself with `x = QBit('x')`\n",
    "\n",
    "2. Some quantum variables need to be initalized with the `allocate` function. This is required in 2 cases:\n",
    "* A variable is a parameter of a function with the declaration `Output` like `def main(x: Output[QInt])`\n",
    "* A variable that was declared within a function like `a = QInt('a')`\n",
    "\n",
    "3. For the `main` function, you will always use `Output` for all variables, as the function does not receive any input\n",
    "\n",
    "4. Every function you use with the QMOD language should have the decorator `@QFunc` before it"
   ]
  },
  {
   "cell_type": "markdown",
   "metadata": {},
   "source": [
    "Important tip!\n",
    "\n",
    "You can see all the declarations of the functions with what are their input arguments in the `functions.py` file within the classiq package (or by just right clicking a function and presing `Go To Defintion`)"
   ]
  },
  {
   "cell_type": "markdown",
   "metadata": {},
   "source": [
    "### Uniform Superposition"
   ]
  },
  {
   "cell_type": "markdown",
   "metadata": {},
   "source": [
    "Let's continue warming up with creating a function that receives a quantum register and creates a uniform superposistion for all qubits within this array. You should use the function `apply_to_all(gate_operand=, target=)`:"
   ]
  },
  {
   "cell_type": "code",
   "execution_count": 8,
   "metadata": {},
   "outputs": [],
   "source": [
    "@QFunc\n",
    "def create_initial_state(reg: QArray[QBit]):\n",
    "    apply_to_all(H,reg)"
   ]
  },
  {
   "cell_type": "markdown",
   "metadata": {},
   "source": [
    "Test yout function by creating a new main function, synthesizing and viewing the circuit:"
   ]
  },
  {
   "cell_type": "code",
   "execution_count": 9,
   "metadata": {},
   "outputs": [],
   "source": [
    "@QFunc\n",
    "def main(reg: Output[QArray]): #TODO fill int the correct declaration here, what variables this model shoul output?\n",
    "    allocate(4,reg)\n",
    "    create_initial_state(reg)"
   ]
  },
  {
   "cell_type": "code",
   "execution_count": 10,
   "metadata": {},
   "outputs": [
    {
     "name": "stdout",
     "output_type": "stream",
     "text": [
      "Opening: https://platform.classiq.io/circuit/e95c1005-8ffd-425a-8930-ae38cb582521?version=0.36.1\n"
     ]
    }
   ],
   "source": [
    "qprog = synthesize(create_model(main))\n",
    "show(qprog)"
   ]
  },
  {
   "cell_type": "markdown",
   "metadata": {},
   "source": [
    "## Arithmetic Operations with Classiq"
   ]
  },
  {
   "cell_type": "markdown",
   "metadata": {},
   "source": [
    "One of the key advantages of Classiq is it's simplistic and powerful compiler for quantum arithmetics. Let's see an example:"
   ]
  },
  {
   "cell_type": "code",
   "execution_count": 11,
   "metadata": {},
   "outputs": [],
   "source": [
    "num_qubits = 4\n",
    "fraction_digits = 0 \n",
    "is_signed = True\n",
    "\n",
    "@QFunc\n",
    "def main(x: Output[QNum], y: Output[QNum]):\n",
    "    allocate_num(num_qubits=num_qubits, is_signed=is_signed, fraction_digits=fraction_digits, out=x)\n",
    "    hadamard_transform(x)\n",
    "    y|= x**2 + 1\n",
    "\n",
    "qmod = create_model(main)"
   ]
  },
  {
   "cell_type": "markdown",
   "metadata": {},
   "source": [
    "The `allocate_num` function initalizes a quantum variable that represent numbers. By default it is initalized to the $\\ket{0}$ state. Then the `hadmard_transform` create a superposition of all posible states in the domain $[-2^3,2^3-1]$. Finally, the arithmetic operation creates the entangled superpostion of states:\n",
    "$\\begin{equation}\n",
    "\\sum_{x =-2^3}^{2^3-1}\\ket{x}\\ket{x^2+1}\n",
    "\\end{equation}$\n",
    "\n",
    "The `qmod` variable is a text file that captures the algortihm we have just created. Now, what we want is to synthesize (compile) in order to receive a concrete quantum program that contains the quantum circuit implementation."
   ]
  },
  {
   "cell_type": "code",
   "execution_count": 12,
   "metadata": {},
   "outputs": [],
   "source": [
    "qprog = synthesize(qmod)"
   ]
  },
  {
   "cell_type": "markdown",
   "metadata": {},
   "source": [
    "And in order to view it:"
   ]
  },
  {
   "cell_type": "code",
   "execution_count": 13,
   "metadata": {},
   "outputs": [
    {
     "name": "stdout",
     "output_type": "stream",
     "text": [
      "Opening: https://platform.classiq.io/circuit/e18a945d-7490-4008-a704-c3b82111dd07?version=0.36.1\n"
     ]
    }
   ],
   "source": [
    "show(qprog)"
   ]
  },
  {
   "cell_type": "markdown",
   "metadata": {},
   "source": [
    "## Advanced Arithmetics"
   ]
  },
  {
   "cell_type": "markdown",
   "metadata": {},
   "source": [
    "Now let's create a general linear function with Classiq: $y= ax+b$ where $a,b$ are classical integer parameters and $x,y$ is a quantum states representing integers:"
   ]
  },
  {
   "cell_type": "code",
   "execution_count": 14,
   "metadata": {},
   "outputs": [],
   "source": [
    "@QFunc\n",
    "def linear_func(a:QParam[int],b: QParam[int], x:QNum, y: Output[QNum]):\n",
    "    y |= a*x+b"
   ]
  },
  {
   "cell_type": "code",
   "execution_count": 15,
   "metadata": {},
   "outputs": [],
   "source": [
    "@QFunc\n",
    "def main(x:Output[QNum], y: Output[QNum]):\n",
    "\n",
    "    a = 2\n",
    "    b = 1\n",
    "    allocate_num(num_qubits=4,is_signed=False,fraction_digits=0,out=x)\n",
    "    hadamard_transform(x)\n",
    "    linear_func(a,b,x,y)\n",
    "\n",
    "qmod = create_model(main)"
   ]
  },
  {
   "cell_type": "code",
   "execution_count": 16,
   "metadata": {},
   "outputs": [],
   "source": [
    "qprog = synthesize(qmod)"
   ]
  },
  {
   "cell_type": "markdown",
   "metadata": {},
   "source": [
    "Let's execute the circuit from directly from the SDK:"
   ]
  },
  {
   "cell_type": "code",
   "execution_count": 17,
   "metadata": {},
   "outputs": [],
   "source": [
    "job = execute(qprog)"
   ]
  },
  {
   "cell_type": "markdown",
   "metadata": {},
   "source": [
    "And we can view the results in the IDE:"
   ]
  },
  {
   "cell_type": "code",
   "execution_count": 18,
   "metadata": {},
   "outputs": [],
   "source": [
    "job.open_in_ide()"
   ]
  },
  {
   "cell_type": "markdown",
   "metadata": {},
   "source": [
    "Or to directly analyze it within the SDK:"
   ]
  },
  {
   "cell_type": "code",
   "execution_count": 14,
   "metadata": {},
   "outputs": [
    {
     "name": "stdout",
     "output_type": "stream",
     "text": [
      "{'x': 5.0, 'y': 11.0}\n",
      "{'x': 3.0, 'y': 7.0}\n",
      "{'x': 6.0, 'y': 13.0}\n",
      "{'x': 9.0, 'y': 19.0}\n",
      "{'x': 0.0, 'y': 1.0}\n",
      "{'x': 12.0, 'y': 25.0}\n",
      "{'x': 11.0, 'y': 23.0}\n",
      "{'x': 4.0, 'y': 9.0}\n",
      "{'x': 15.0, 'y': 31.0}\n",
      "{'x': 8.0, 'y': 17.0}\n",
      "{'x': 14.0, 'y': 29.0}\n",
      "{'x': 1.0, 'y': 3.0}\n",
      "{'x': 13.0, 'y': 27.0}\n",
      "{'x': 2.0, 'y': 5.0}\n",
      "{'x': 10.0, 'y': 21.0}\n",
      "{'x': 7.0, 'y': 15.0}\n"
     ]
    }
   ],
   "source": [
    "results = job.result()\n",
    "parsed_counts = results[0].value.parsed_counts\n",
    "for sampled_state in parsed_counts: print(sampled_state.state)"
   ]
  },
  {
   "cell_type": "markdown",
   "metadata": {},
   "source": [
    "Now it's your turn! Implement the same linear function, but now $x$ is in the domain $[0,1)$ and is represented by 4 qubits. The parameters $a,b$ should be now `float` with the values of: $a=0.5, b=1.5$."
   ]
  },
  {
   "cell_type": "code",
   "execution_count": 11,
   "metadata": {},
   "outputs": [],
   "source": [
    "@QFunc\n",
    "def linear_func(a:QParam[float],b: QParam[float], x:QNum, y: Output[QNum]):\n",
    "    y |= a*x+b\n",
    "\n",
    "@QFunc\n",
    "def main(x:Output[QNum], y: Output[QNum]):\n",
    "\n",
    "    a = 0.5\n",
    "    b = 1.5\n",
    "    allocate_num(num_qubits=4,is_signed=False,fraction_digits=4,out=x)\n",
    "    hadamard_transform(x)\n",
    "    linear_func(a,b,x,y)\n",
    "\n",
    "qmod = create_model(main)"
   ]
  },
  {
   "cell_type": "code",
   "execution_count": 12,
   "metadata": {},
   "outputs": [],
   "source": [
    "qprog = synthesize(qmod)"
   ]
  },
  {
   "cell_type": "markdown",
   "metadata": {},
   "source": [
    "## Tutorial - Two controlled Linear operations"
   ]
  },
  {
   "cell_type": "markdown",
   "metadata": {},
   "source": [
    "Let's say we want now to have two linear operations applied on the same quantum variable (register). But the arithmetic operation initalize a new quantum variable, so how can we do that? The answer is that we need to apply the operation to another variable and then XOR it to the variable we want. \n",
    "\n",
    "This can be useful if the linear operation we want to apply is controlled upon a control variable. Let's first define the functional buildng block:"
   ]
  },
  {
   "cell_type": "code",
   "execution_count": 16,
   "metadata": {},
   "outputs": [],
   "source": [
    "@QFunc\n",
    "def inplace_linear_attempt(a:QParam[int],b: QParam[int], x:QNum, y: QNum):\n",
    "    tmp = QNum('tmp')\n",
    "    linear_func(a,b,x,tmp)\n",
    "    inplace_xor(tmp,y)"
   ]
  },
  {
   "cell_type": "markdown",
   "metadata": {},
   "source": [
    "And checking our basic function implementation:"
   ]
  },
  {
   "cell_type": "code",
   "execution_count": 17,
   "metadata": {},
   "outputs": [
    {
     "name": "stdout",
     "output_type": "stream",
     "text": [
      "Opening: https://platform.classiq.io/circuit/01aff113-35aa-4c38-9a25-8817b4eed7ee?version=0.36.1\n"
     ]
    }
   ],
   "source": [
    "@QFunc\n",
    "def main(x: Output[QNum],y: Output[QNum]):\n",
    "    a = 1\n",
    "    b = 2\n",
    "\n",
    "    allocate_num(4,False,0,y)\n",
    "    allocate_num(4,False,0,x)\n",
    "    hadamard_transform(x)\n",
    "    inplace_linear_attempt(a,b,x,y)\n",
    "\n",
    "qmod = create_model(main)\n",
    "qprog = synthesize(qmod)\n",
    "show(qprog)"
   ]
  },
  {
   "cell_type": "markdown",
   "metadata": {},
   "source": [
    "Ok, cool. So now we want to add a control qubit that controlled on the state $\\ket{0}$ implements the linear funciton $\\ket{x}\\rightarrow\\ket{x}\\ket{x+2}$ and controlled on the state $\\ket{1}$ implements the linear function $\\ket{x}\\rightarrow\\ket{x}\\ket{2x+1}$:"
   ]
  },
  {
   "cell_type": "code",
   "execution_count": 18,
   "metadata": {},
   "outputs": [],
   "source": [
    "@QFunc\n",
    "def control_logic(a: QParam[list[int]], b: QParam[list[int]], controller:QNum, x: QNum, y: QNum):\n",
    "    \n",
    "    repeat( count=a.len(),         \n",
    "            iteration=lambda i: quantum_if(controller==i, lambda: inplace_linear_attempt(a[i],b[i],x,y)))\n"
   ]
  },
  {
   "cell_type": "code",
   "execution_count": 19,
   "metadata": {},
   "outputs": [],
   "source": [
    "@QFunc\n",
    "def main(controller: Output[QNum], x: Output[QNum],y: Output[QNum]):\n",
    "\n",
    "    # Linear polynom parameters\n",
    "    a = [1,2]\n",
    "    b = [2,1]\n",
    "\n",
    "    # Initalizing x to a superposition in the domain [0,2^4-1]\n",
    "    allocate_num(4,False,0,x)\n",
    "    hadamard_transform(x)\n",
    "    \n",
    "    #Initalize y\n",
    "    allocate_num(4,False,0,y)\n",
    "\n",
    "    # Setting the controller in a superpostion\n",
    "    allocate_num(1,False,0,controller)\n",
    "    H(controller)\n",
    "\n",
    "    # Implementing the control logic\n",
    "    control_logic(a,b,controller,x,y)\n",
    "\n",
    "    \n",
    "qmod = create_model(main)"
   ]
  },
  {
   "cell_type": "code",
   "execution_count": 20,
   "metadata": {},
   "outputs": [
    {
     "name": "stdout",
     "output_type": "stream",
     "text": [
      "Opening: https://platform.classiq.io/circuit/beeb1275-6543-491f-af1a-abe7caf3b4f0?version=0.36.1\n"
     ]
    }
   ],
   "source": [
    "qprog = synthesize(qmod)\n",
    "show(qprog)"
   ]
  },
  {
   "cell_type": "markdown",
   "metadata": {},
   "source": [
    "By executing we can actually see we get what we want:"
   ]
  },
  {
   "cell_type": "code",
   "execution_count": 21,
   "metadata": {},
   "outputs": [
    {
     "name": "stdout",
     "output_type": "stream",
     "text": [
      "{'controller': 0.0, 'x': 3.0, 'y': 5.0}\n",
      "{'controller': 1.0, 'x': 5.0, 'y': 11.0}\n",
      "{'controller': 0.0, 'x': 2.0, 'y': 4.0}\n",
      "{'controller': 1.0, 'x': 8.0, 'y': 1.0}\n",
      "{'controller': 0.0, 'x': 7.0, 'y': 9.0}\n",
      "{'controller': 0.0, 'x': 9.0, 'y': 11.0}\n",
      "{'controller': 0.0, 'x': 13.0, 'y': 15.0}\n",
      "{'controller': 1.0, 'x': 1.0, 'y': 3.0}\n",
      "{'controller': 1.0, 'x': 14.0, 'y': 13.0}\n",
      "{'controller': 1.0, 'x': 0.0, 'y': 1.0}\n",
      "{'controller': 1.0, 'x': 2.0, 'y': 5.0}\n",
      "{'controller': 1.0, 'x': 9.0, 'y': 3.0}\n",
      "{'controller': 0.0, 'x': 14.0, 'y': 0.0}\n",
      "{'controller': 0.0, 'x': 5.0, 'y': 7.0}\n",
      "{'controller': 1.0, 'x': 3.0, 'y': 7.0}\n",
      "{'controller': 0.0, 'x': 10.0, 'y': 12.0}\n",
      "{'controller': 0.0, 'x': 6.0, 'y': 8.0}\n",
      "{'controller': 1.0, 'x': 10.0, 'y': 5.0}\n",
      "{'controller': 0.0, 'x': 1.0, 'y': 3.0}\n",
      "{'controller': 1.0, 'x': 7.0, 'y': 15.0}\n",
      "{'controller': 1.0, 'x': 12.0, 'y': 9.0}\n",
      "{'controller': 1.0, 'x': 4.0, 'y': 9.0}\n",
      "{'controller': 1.0, 'x': 13.0, 'y': 11.0}\n",
      "{'controller': 0.0, 'x': 8.0, 'y': 10.0}\n",
      "{'controller': 0.0, 'x': 4.0, 'y': 6.0}\n",
      "{'controller': 1.0, 'x': 11.0, 'y': 7.0}\n",
      "{'controller': 1.0, 'x': 15.0, 'y': 15.0}\n",
      "{'controller': 1.0, 'x': 6.0, 'y': 13.0}\n",
      "{'controller': 0.0, 'x': 15.0, 'y': 1.0}\n",
      "{'controller': 0.0, 'x': 11.0, 'y': 13.0}\n",
      "{'controller': 0.0, 'x': 0.0, 'y': 2.0}\n",
      "{'controller': 0.0, 'x': 12.0, 'y': 14.0}\n"
     ]
    }
   ],
   "source": [
    "def print_parsed_counts(job):\n",
    "    results = job.result()\n",
    "    parsed_counts = results[0].value.parsed_counts\n",
    "    for parsed_state in parsed_counts: print(parsed_state.state)\n",
    "\n",
    "job = execute(qprog)\n",
    "print_parsed_counts(job)"
   ]
  },
  {
   "cell_type": "markdown",
   "metadata": {},
   "source": [
    "Of course there is the issue of rounding and overflow - when one tries to represent $2*15+1=31$ with $4$ binary digits that's not possible (because the domain $[0,31]$ of integers is represented by at least 5 bits). See our [documentation](https://docs.classiq.io/latest/user-guide/platform/qmod/python/quantum-expressions/#inplace-arithmetic-operators) for further explanations.\n",
    "\n",
    "Let's try to use Classiq and optimize the circuit for minimal circuit width:"
   ]
  },
  {
   "cell_type": "code",
   "execution_count": 22,
   "metadata": {},
   "outputs": [
    {
     "name": "stdout",
     "output_type": "stream",
     "text": [
      "Synthesized circuit width: 20, depth: 688\n"
     ]
    }
   ],
   "source": [
    "def print_depth_width(quantum_program):\n",
    "    generated_circuit = GeneratedCircuit.parse_raw(quantum_program)\n",
    "    print(f\"Synthesized circuit width: {generated_circuit.data.width}, depth: {generated_circuit.transpiled_circuit.depth}\")\n",
    "\n",
    "qmod = set_constraints(qmod,Constraints(optimization_parameter='width'))\n",
    "qprog = synthesize(qmod)\n",
    "print_depth_width(qprog)"
   ]
  },
  {
   "cell_type": "markdown",
   "metadata": {},
   "source": [
    "And when optimizng for depth:"
   ]
  },
  {
   "cell_type": "code",
   "execution_count": 23,
   "metadata": {},
   "outputs": [
    {
     "name": "stdout",
     "output_type": "stream",
     "text": [
      "Synthesized circuit width: 32, depth: 398\n"
     ]
    }
   ],
   "source": [
    "qmod = set_constraints(qmod,Constraints(optimization_parameter='depth'))\n",
    "qprog = synthesize(qmod)\n",
    "print_depth_width(qprog)"
   ]
  },
  {
   "cell_type": "markdown",
   "metadata": {},
   "source": [
    "Firstly, we can see here a clear demonstration of the power of high-level functional design! The same algortihm with the same functionality was optimized once for depth and once for width and the result is 2 different circuits with different characteristics that implement the same functionality.\n",
    "\n",
    "Secondly, is this the best we can do? Obviously the Classiq synthesis engine is optimizing for us the algortihm quite good. But, can we change something with our functionality, with our algorithm to get more efficient circuits? \n",
    "\n",
    "If we go back to out `inplace_linear_attempt` function, we can see that we initalize a `tmp` variable that requires more qubits and is not used. For such scenarios we have the `within_apply`. This logic implemnts sort of $UVU^{\\dagger}$ and when temporary variables are outputs of $U$ and used only by $V$ they are uncomputed by $U^{\\dagger}$. Let's see for our example:"
   ]
  },
  {
   "cell_type": "code",
   "execution_count": 24,
   "metadata": {},
   "outputs": [],
   "source": [
    "@QFunc\n",
    "def inplace_linear_func(a:QParam[int],b: QParam[int], x:QNum, y: QNum):\n",
    "    tmp = QNum('tmp')\n",
    "    within_apply(compute= lambda: linear_func(a,b,x,tmp),\n",
    "                action= lambda: inplace_xor(tmp,y))"
   ]
  },
  {
   "cell_type": "markdown",
   "metadata": {},
   "source": [
    "With the new `control_logic`:"
   ]
  },
  {
   "cell_type": "code",
   "execution_count": 25,
   "metadata": {},
   "outputs": [],
   "source": [
    "@QFunc\n",
    "def control_logic_2(a: QParam[list[int]], b: QParam[list[int]], controller:QNum, x: QNum, y: QNum):\n",
    "    \n",
    "    repeat( count=a.len(),         \n",
    "            iteration=lambda i: quantum_if(controller==i, lambda: inplace_linear_func(a[i],b[i],x,y)))"
   ]
  },
  {
   "cell_type": "markdown",
   "metadata": {},
   "source": [
    "And when we put all together now:"
   ]
  },
  {
   "cell_type": "code",
   "execution_count": 26,
   "metadata": {},
   "outputs": [],
   "source": [
    "@QFunc\n",
    "def main(controller: Output[QNum], x: Output[QNum],y: Output[QNum]):\n",
    "\n",
    "    # Linear polynom parameters\n",
    "    a = [1,2]\n",
    "    b = [2,1]\n",
    "\n",
    "    # Initalizing x to a superposition in the domain [0,2^4-1]\n",
    "    allocate_num(4,False,0,x)\n",
    "    hadamard_transform(x)\n",
    "    \n",
    "    #Initalize y\n",
    "    allocate_num(4,False,0,y)\n",
    "\n",
    "    # Setting the controller in a superpostion\n",
    "    allocate_num(1,False,0,controller)\n",
    "    H(controller)\n",
    "\n",
    "    # Implementing the control logic\n",
    "    control_logic_2(a,b,controller,x,y)\n",
    "\n",
    "    \n",
    "qmod = create_model(main)"
   ]
  },
  {
   "cell_type": "code",
   "execution_count": 27,
   "metadata": {},
   "outputs": [],
   "source": [
    "qprog = synthesize(qmod)"
   ]
  },
  {
   "cell_type": "code",
   "execution_count": 34,
   "metadata": {},
   "outputs": [
    {
     "name": "stdout",
     "output_type": "stream",
     "text": [
      "Opening: https://platform.classiq.io/circuit/c5d18fda-ab8b-42b8-8373-4a57c49283db?version=0.36.1\n"
     ]
    }
   ],
   "source": [
    "show(qprog)"
   ]
  },
  {
   "cell_type": "markdown",
   "metadata": {},
   "source": [
    "And now when we optimize for width:"
   ]
  },
  {
   "cell_type": "code",
   "execution_count": 28,
   "metadata": {},
   "outputs": [
    {
     "name": "stdout",
     "output_type": "stream",
     "text": [
      "Synthesized circuit width: 16, depth: 244\n"
     ]
    }
   ],
   "source": [
    "qmod = set_constraints(qmod,Constraints(optimization_parameter='width'))\n",
    "qprog = synthesize(qmod)\n",
    "print_depth_width(qprog)"
   ]
  },
  {
   "cell_type": "markdown",
   "metadata": {},
   "source": [
    "And for depth:"
   ]
  },
  {
   "cell_type": "code",
   "execution_count": 29,
   "metadata": {},
   "outputs": [
    {
     "name": "stdout",
     "output_type": "stream",
     "text": [
      "Synthesized circuit width: 45, depth: 203\n"
     ]
    }
   ],
   "source": [
    "qmod = set_constraints(qmod,Constraints(optimization_parameter='depth'))\n",
    "qprog = synthesize(qmod)\n",
    "print_depth_width(qprog)"
   ]
  },
  {
   "cell_type": "markdown",
   "metadata": {},
   "source": [
    "So using the `within_apply` logic enabled us to reduce the optimal circuit implementation in terms of width from $20$ to $16$ and the optimal circuit depth from $398$ to $203$! I think both can be useful for you for the hackahton :) "
   ]
  },
  {
   "cell_type": "markdown",
   "metadata": {},
   "source": [
    "## Cheat Sheet"
   ]
  },
  {
   "cell_type": "markdown",
   "metadata": {},
   "source": [
    "### Initalizations"
   ]
  },
  {
   "cell_type": "code",
   "execution_count": null,
   "metadata": {},
   "outputs": [],
   "source": [
    "allocate(\n",
    "    num_qubits: QParam[int],\n",
    "    out: Output[QArray[QBit, Literal[\"num_qubits\"]]])\n",
    "    '''\n",
    "    x = QArray('x')\n",
    "    allocate(4,x)\n",
    "    '''\n",
    "\n",
    "allocate_num(\n",
    "    num_qubits: QParam[int],\n",
    "    is_signed: QParam[bool],\n",
    "    fraction_digits: QParam[int],\n",
    "    out: Output[QNum])\n",
    "'''\n",
    "x = QNum('x')\n",
    "allocate_num(4,False,4,x)\n",
    "'''"
   ]
  },
  {
   "cell_type": "markdown",
   "metadata": {},
   "source": [
    "### Operations"
   ]
  },
  {
   "cell_type": "code",
   "execution_count": null,
   "metadata": {},
   "outputs": [],
   "source": [
    "repeat(\n",
    "    count: QParam[int],\n",
    "    iteration: QCallable[QParam[int]],\n",
    ")\n",
    "'''\n",
    "x = QArray\n",
    "allocate(4,x)\n",
    "repeat(x.len(),lambda index: H(x))\n",
    "'''\n",
    "\n",
    "control(\n",
    "    operand: QCallable,\n",
    "    ctrl: QArray[QBit],\n",
    ") \n",
    "'''\n",
    "x = QArray('x')\n",
    "y = QArray('y')\n",
    "x = allocate(4,x)\n",
    "y = allocate(4,y)\n",
    "repeat(x.len(),lambda i: control(lambda: X(y[i]),x[i]))\n",
    "'''"
   ]
  }
 ],
 "metadata": {
  "kernelspec": {
   "display_name": "Python 3.11.7 ('classiq')",
   "language": "python",
   "name": "python3"
  },
  "language_info": {
   "codemirror_mode": {
    "name": "ipython",
    "version": 3
   },
   "file_extension": ".py",
   "mimetype": "text/x-python",
   "name": "python",
   "nbconvert_exporter": "python",
   "pygments_lexer": "ipython3",
   "version": "3.11.1"
  },
  "orig_nbformat": 4,
  "vscode": {
   "interpreter": {
    "hash": "529b62266d4f537a408698cf820854c65fe877011c7661f0f70aa11c4383fddc"
   }
  }
 },
 "nbformat": 4,
 "nbformat_minor": 2
}
